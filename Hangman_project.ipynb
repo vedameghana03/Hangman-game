{
 "cells": [
  {
   "cell_type": "markdown",
   "id": "01eb127a-76c7-45e0-80de-60b5183fc20b",
   "metadata": {},
   "source": [
    "### Step 1\n",
    "\n",
    "#### TODO-1\n",
    "- Randomly choose a word from the word_list and assign it to a variable called chosen_word. Then print it.\n",
    "\n",
    "#### TODO-2 \n",
    "- Ask the user to guess a letter and assign their answer to a variable called guess. Make guess lowercase.\n",
    "\n",
    "#### TODO-3 \n",
    "- Check if the letter the user guessed (guess) is one of the letters in the chosen_word. Print \"Right\" if it is, \"Wrong\" if it's not.\n"
   ]
  },
  {
   "cell_type": "code",
   "execution_count": 2,
   "id": "b27909d9-42ff-49af-a7ef-b378403990af",
   "metadata": {},
   "outputs": [],
   "source": [
    "import random\n",
    "word_list = [\"aardvark\", \"baboon\", \"camel\"]"
   ]
  },
  {
   "cell_type": "code",
   "execution_count": 21,
   "id": "b0e63ef2-e51e-4b33-a247-ea3e61740cd1",
   "metadata": {},
   "outputs": [
    {
     "name": "stdout",
     "output_type": "stream",
     "text": [
      "baboon\n"
     ]
    },
    {
     "name": "stdin",
     "output_type": "stream",
     "text": [
      "Guess a letter:  q\n"
     ]
    },
    {
     "name": "stdout",
     "output_type": "stream",
     "text": [
      "q\n",
      "Wrong\n",
      "Wrong\n",
      "Wrong\n",
      "Wrong\n",
      "Wrong\n",
      "Wrong\n"
     ]
    }
   ],
   "source": [
    "chosen_word = random.choice(word_list)\n",
    "print(chosen_word)\n",
    "\n",
    "guess = input(\"Guess a letter: \").lower()\n",
    "print(guess)\n",
    "\n",
    "for letter in chosen_word:\n",
    "    if letter == guess:\n",
    "        print(\"Right\")\n",
    "    else:\n",
    "        print(\"Wrong\")"
   ]
  },
  {
   "cell_type": "markdown",
   "id": "cba187b6-d416-4a8d-8e2f-e027fb26f5b2",
   "metadata": {},
   "source": [
    "### STEP 2\n",
    "\n",
    "#### TODO-1\n",
    "- Create an empty String called placeholder.\n",
    "- For each letter in the chosen_word, add a _ to placeholder.\n",
    "- So if the chosen_word was \"apple\", placeholder should be _ _ _ _ _ with 5 \"_\" representing each letter to guess.\n",
    "\n",
    "- Remember you can use the range() function inside a loop to carry out an action for a particular number of times.\n",
    "#### TODO-2\n",
    "- Create an empty string called \"display\".\n",
    "- Loop through each letter in the chosen_word\n",
    "- If the letter at that position matches guess then reveal that letter in the display at that position.\n",
    "- e.g. If the user guessed \"p\" and the chosen word was \"apple\", then display should be _ p p _ _.\n",
    "- Print display and you should see the guessed letter in the correct position.\n",
    "- But every letter that is not a match is represented with a \"_\"."
   ]
  },
  {
   "cell_type": "code",
   "execution_count": 3,
   "id": "5d4199d9-b566-4ae0-81d1-97edb7aa1c51",
   "metadata": {},
   "outputs": [
    {
     "name": "stdout",
     "output_type": "stream",
     "text": [
      "camel\n",
      "_____\n"
     ]
    },
    {
     "name": "stdin",
     "output_type": "stream",
     "text": [
      "Guess a letter:  c\n"
     ]
    },
    {
     "name": "stdout",
     "output_type": "stream",
     "text": [
      "c____\n"
     ]
    }
   ],
   "source": [
    "\n",
    "word_list = [\"aardvark\", \"baboon\", \"camel\"]\n",
    "\n",
    "chosen_word = random.choice(word_list)\n",
    "print(chosen_word)\n",
    "\n",
    "placeholder = \"\"\n",
    "word_length = len(chosen_word)\n",
    "for position in range(word_length):\n",
    "    placeholder += \"_\"\n",
    "print(placeholder)\n",
    "\n",
    "guess = input(\"Guess a letter: \").lower()\n",
    "\n",
    "display = \"\"\n",
    "\n",
    "for letter in chosen_word:\n",
    "    if letter == guess:\n",
    "        display += letter\n",
    "    else:\n",
    "        display += \"_\"\n",
    "\n",
    "print(display)\n",
    "\n",
    "    "
   ]
  },
  {
   "cell_type": "markdown",
   "id": "7ef4e7c1-2e9c-456f-8227-396d7752387d",
   "metadata": {},
   "source": [
    "### Step 3\n",
    "\n",
    "#### TODO-1\n",
    "- Use a while loop to let the user guess again.\n",
    "- The loop should only stop once the user has guessed all the letters in the chosen_word.\n",
    "- At that point display has no more blanks (\"_\"). Then you can tell the user they've won.\n",
    " \n",
    "#### TODO-2\n",
    "- Update the for loop so that previous guesses are added to the display String.\n",
    "- At the moment, when the user makes a new guess, the previous guess gets replaced by a \"_\". We need to fix that by updating the for loop.\n",
    "\n"
   ]
  },
  {
   "cell_type": "code",
   "execution_count": 4,
   "id": "fae58c99-bf8b-4511-924c-66ca94c5aa64",
   "metadata": {},
   "outputs": [
    {
     "name": "stdout",
     "output_type": "stream",
     "text": [
      "camel\n",
      "_____\n"
     ]
    },
    {
     "name": "stdin",
     "output_type": "stream",
     "text": [
      "Guess a letter:  c\n"
     ]
    },
    {
     "name": "stdout",
     "output_type": "stream",
     "text": [
      "c____\n"
     ]
    },
    {
     "name": "stdin",
     "output_type": "stream",
     "text": [
      "Guess a letter:  a\n"
     ]
    },
    {
     "name": "stdout",
     "output_type": "stream",
     "text": [
      "ca___\n"
     ]
    },
    {
     "name": "stdin",
     "output_type": "stream",
     "text": [
      "Guess a letter:  m\n"
     ]
    },
    {
     "name": "stdout",
     "output_type": "stream",
     "text": [
      "cam__\n"
     ]
    },
    {
     "name": "stdin",
     "output_type": "stream",
     "text": [
      "Guess a letter:  e\n"
     ]
    },
    {
     "name": "stdout",
     "output_type": "stream",
     "text": [
      "came_\n"
     ]
    },
    {
     "name": "stdin",
     "output_type": "stream",
     "text": [
      "Guess a letter:  l\n"
     ]
    },
    {
     "name": "stdout",
     "output_type": "stream",
     "text": [
      "camel\n",
      "You win.\n"
     ]
    }
   ],
   "source": [
    "word_list = [\"aardvark\", \"baboon\", \"camel\"]\n",
    "\n",
    "chosen_word = random.choice(word_list)\n",
    "print(chosen_word)\n",
    "\n",
    "placeholder = \"\"\n",
    "word_length = len(chosen_word)\n",
    "for position in range(word_length):\n",
    "    placeholder += \"_\"\n",
    "print(placeholder)\n",
    "\n",
    "game_over = False\n",
    "correct_letters = []\n",
    "\n",
    "while not game_over:\n",
    "    guess = input(\"Guess a letter: \").lower()\n",
    "\n",
    "    display = \"\"\n",
    "\n",
    "    for letter in chosen_word:\n",
    "        if letter == guess:\n",
    "            display += letter\n",
    "            correct_letters.append(guess)\n",
    "        elif letter in correct_letters:\n",
    "            display += letter\n",
    "        else:\n",
    "            display += \"_\"\n",
    "\n",
    "    print(display)\n",
    "\n",
    "    if \"_\" not in display:\n",
    "        game_over = True\n",
    "        print(\"You win.\")\n"
   ]
  },
  {
   "cell_type": "markdown",
   "id": "bf2632bf-0c2a-48c0-b499-4b128cda67d9",
   "metadata": {},
   "source": [
    "### Step 4\n",
    "\n",
    "#### TODO-1:\n",
    "- Create a variable called lives to keep track of the number of lives left.\n",
    "Set lives to equal 6.\n",
    "\n",
    "#### TODO-2:\n",
    "- If guess is not a letter in the chosen_word, Then reduce lives by 1.\n",
    "- If lives goes down to 0 then the game should end, and it should print \"You lose.\"\n",
    " \n",
    "#### TODO-3:\n",
    "- print the ASCII art from the list stages that corresponds to the current number of lives the user has remaining"
   ]
  },
  {
   "cell_type": "code",
   "execution_count": 7,
   "id": "874ef4f2-ad61-4ca5-908d-cb058ab2cc54",
   "metadata": {},
   "outputs": [
    {
     "name": "stdout",
     "output_type": "stream",
     "text": [
      "baboon\n",
      "______\n"
     ]
    },
    {
     "name": "stdin",
     "output_type": "stream",
     "text": [
      "Guess a letter:  w\n"
     ]
    },
    {
     "name": "stdout",
     "output_type": "stream",
     "text": [
      "______\n",
      "\n",
      "  +---+\n",
      "  |   |\n",
      "  O   |\n",
      "      |\n",
      "      |\n",
      "      |\n",
      "=========\n",
      "\n"
     ]
    },
    {
     "name": "stdin",
     "output_type": "stream",
     "text": [
      "Guess a letter:  w\n"
     ]
    },
    {
     "name": "stdout",
     "output_type": "stream",
     "text": [
      "______\n",
      "\n",
      "  +---+\n",
      "  |   |\n",
      "  O   |\n",
      "  |   |\n",
      "      |\n",
      "      |\n",
      "=========\n",
      "\n"
     ]
    },
    {
     "name": "stdin",
     "output_type": "stream",
     "text": [
      "Guess a letter:  w\n"
     ]
    },
    {
     "name": "stdout",
     "output_type": "stream",
     "text": [
      "______\n",
      "\n",
      "  +---+\n",
      "  |   |\n",
      "  O   |\n",
      " /|   |\n",
      "      |\n",
      "      |\n",
      "=========\n"
     ]
    },
    {
     "name": "stdin",
     "output_type": "stream",
     "text": [
      "Guess a letter:  w\n"
     ]
    },
    {
     "name": "stdout",
     "output_type": "stream",
     "text": [
      "______\n",
      "\n",
      "  +---+\n",
      "  |   |\n",
      "  O   |\n",
      " /|\\  |\n",
      "      |\n",
      "      |\n",
      "=========\n",
      "\n"
     ]
    },
    {
     "name": "stdin",
     "output_type": "stream",
     "text": [
      "Guess a letter:  w\n"
     ]
    },
    {
     "name": "stdout",
     "output_type": "stream",
     "text": [
      "______\n",
      "\n",
      "  +---+\n",
      "  |   |\n",
      "  O   |\n",
      " /|\\  |\n",
      " /    |\n",
      "      |\n",
      "=========\n",
      "\n"
     ]
    },
    {
     "name": "stdin",
     "output_type": "stream",
     "text": [
      "Guess a letter:  w\n"
     ]
    },
    {
     "name": "stdout",
     "output_type": "stream",
     "text": [
      "______\n",
      "You lose.\n",
      "\n",
      "  +---+\n",
      "  |   |\n",
      "  O   |\n",
      " /|\\  |\n",
      " / \\  |\n",
      "      |\n",
      "=========\n",
      "\n"
     ]
    }
   ],
   "source": [
    "stages = [r'''\n",
    "  +---+\n",
    "  |   |\n",
    "  O   |\n",
    " /|\\  |\n",
    " / \\  |\n",
    "      |\n",
    "=========\n",
    "''', r'''\n",
    "  +---+\n",
    "  |   |\n",
    "  O   |\n",
    " /|\\  |\n",
    " /    |\n",
    "      |\n",
    "=========\n",
    "''', r'''\n",
    "  +---+\n",
    "  |   |\n",
    "  O   |\n",
    " /|\\  |\n",
    "      |\n",
    "      |\n",
    "=========\n",
    "''', '''\n",
    "  +---+\n",
    "  |   |\n",
    "  O   |\n",
    " /|   |\n",
    "      |\n",
    "      |\n",
    "=========''', '''\n",
    "  +---+\n",
    "  |   |\n",
    "  O   |\n",
    "  |   |\n",
    "      |\n",
    "      |\n",
    "=========\n",
    "''', '''\n",
    "  +---+\n",
    "  |   |\n",
    "  O   |\n",
    "      |\n",
    "      |\n",
    "      |\n",
    "=========\n",
    "''', '''\n",
    "  +---+\n",
    "  |   |\n",
    "      |\n",
    "      |\n",
    "      |\n",
    "      |\n",
    "=========\n",
    "''']\n",
    "word_list = [\"aardvark\", \"baboon\", \"camel\"]\n",
    "\n",
    "lives = 6\n",
    "\n",
    "chosen_word = random.choice(word_list)\n",
    "print(chosen_word)\n",
    "\n",
    "placeholder = \"\"\n",
    "word_length = len(chosen_word)\n",
    "for position in range(word_length):\n",
    "    placeholder += \"_\"\n",
    "print(placeholder)\n",
    "\n",
    "game_over = False\n",
    "correct_letters = []\n",
    "\n",
    "while not game_over:\n",
    "    guess = input(\"Guess a letter: \").lower()\n",
    "\n",
    "    display = \"\"\n",
    "\n",
    "    for letter in chosen_word:\n",
    "        if letter == guess:\n",
    "            display += letter\n",
    "            correct_letters.append(guess)\n",
    "        elif letter in correct_letters:\n",
    "            display += letter\n",
    "        else:\n",
    "            display += \"_\"\n",
    "\n",
    "    print(display)\n",
    "\n",
    "    if guess not in chosen_word:\n",
    "        lives -= 1\n",
    "        if lives == 0:\n",
    "            game_over = True\n",
    "            print(\"You lose.\")\n",
    "\n",
    "    if \"_\" not in display:\n",
    "        game_over = True\n",
    "        print(\"You win.\")\n",
    "\n",
    "    print(stages[lives])"
   ]
  },
  {
   "cell_type": "markdown",
   "id": "94413be6-1b08-42cd-ac6b-889247ca017b",
   "metadata": {},
   "source": [
    "### Step 5\n",
    "\n",
    "#### TODO-1:\n",
    "- Update the word list to use the word_list from hangman_words.py\n",
    "\n",
    "#### TODO-2:\n",
    "- Update the code to use the stages from the file hangman_art.py\n",
    "\n",
    "#### TODO-3:\n",
    "- Import the logo from hangman_art.py and print it at the start of the game.\n",
    "\n",
    "#### TODO-4:\n",
    "- If the user has entered a letter they've already guessed, print the letter and let them know. We should not deduct a life for this.\n",
    "e.g. You've already guessed a\n",
    "\n",
    "#### TODO-5:\n",
    "- If the letter is not in the chosen_word, print out the letter and let them know it's not in the word.\n",
    "e.g. You guessed d, that's not in the word. You lose a life.\n",
    "\n",
    "#### TODO-6:\n",
    "- Update the code below to tell the user how many lives they have left. print(\"****************************<???>/6 LIVES LEFT****************************\")\n",
    "\n",
    "#### TODO 7:\n",
    "- Update the print statement to give the user the correct word they were trying to guess.\n",
    "e.g. IT WAS <Correct Word>! YOU LOSE"
   ]
  },
  {
   "cell_type": "code",
   "execution_count": 10,
   "id": "97e84f9e-ccb7-4869-acae-eaf36ab98d75",
   "metadata": {},
   "outputs": [],
   "source": [
    "stages = [r'''\n",
    "  +---+\n",
    "  |   |\n",
    "  O   |\n",
    " /|\\  |\n",
    " / \\  |\n",
    "      |\n",
    "=========\n",
    "''', r'''\n",
    "  +---+\n",
    "  |   |\n",
    "  O   |\n",
    " /|\\  |\n",
    " /    |\n",
    "      |\n",
    "=========\n",
    "''', r'''\n",
    "  +---+\n",
    "  |   |\n",
    "  O   |\n",
    " /|\\  |\n",
    "      |\n",
    "      |\n",
    "=========\n",
    "''', '''\n",
    "  +---+\n",
    "  |   |\n",
    "  O   |\n",
    " /|   |\n",
    "      |\n",
    "      |\n",
    "=========''', '''\n",
    "  +---+\n",
    "  |   |\n",
    "  O   |\n",
    "  |   |\n",
    "      |\n",
    "      |\n",
    "=========\n",
    "''', '''\n",
    "  +---+\n",
    "  |   |\n",
    "  O   |\n",
    "      |\n",
    "      |\n",
    "      |\n",
    "=========\n",
    "''', '''\n",
    "  +---+\n",
    "  |   |\n",
    "      |\n",
    "      |\n",
    "      |\n",
    "      |\n",
    "=========\n",
    "''']"
   ]
  },
  {
   "cell_type": "code",
   "execution_count": 8,
   "id": "4c53c0d3-14eb-4767-bef0-ba5e7886a0d0",
   "metadata": {},
   "outputs": [],
   "source": [
    "logo = r''' \n",
    " _                                             \n",
    "| |                                            \n",
    "| |__   __ _ _ __   __ _ _ __ ___   __ _ _ __  \n",
    "| '_ \\ / _` | '_ \\ / _` | '_ ` _ \\ / _` | '_ \\ \n",
    "| | | | (_| | | | | (_| | | | | | | (_| | | | |\n",
    "|_| |_|\\__,_|_| |_|\\__, |_| |_| |_|\\__,_|_| |_|\n",
    "                    __/ |                      \n",
    "                   |___/    '''\n"
   ]
  },
  {
   "cell_type": "code",
   "execution_count": 9,
   "id": "afa6ed21-7a06-4457-980a-dc0a12db3c2c",
   "metadata": {},
   "outputs": [],
   "source": [
    "word_list = [\n",
    "    'abruptly',\n",
    "    'absurd',\n",
    "    'abyss',\n",
    "    'affix',\n",
    "    'askew',\n",
    "    'avenue',\n",
    "    'awkward',\n",
    "    'axiom',\n",
    "    'azure',\n",
    "    'bagpipes',\n",
    "    'bandwagon',\n",
    "    'banjo',\n",
    "    'bayou',\n",
    "    'beekeeper',\n",
    "    'bikini',\n",
    "    'blitz',\n",
    "    'blizzard',\n",
    "    'boggle',\n",
    "    'bookworm',\n",
    "    'boxcar',\n",
    "    'boxful',\n",
    "    'buckaroo',\n",
    "    'buffalo',\n",
    "    'buffoon',\n",
    "    'buxom',\n",
    "    'buzzard',\n",
    "    'buzzing',\n",
    "    'buzzwords',\n",
    "    'caliph',\n",
    "    'cobweb',\n",
    "    'cockiness',\n",
    "    'croquet',\n",
    "    'crypt',\n",
    "    'curacao',\n",
    "    'cycle',\n",
    "    'daiquiri',\n",
    "    'dirndl',\n",
    "    'disavow',\n",
    "    'dizzying',\n",
    "    'duplex',\n",
    "    'dwarves',\n",
    "    'embezzle',\n",
    "    'equip',\n",
    "    'espionage',\n",
    "    'euouae',\n",
    "    'exodus',\n",
    "    'faking',\n",
    "    'fishhook',\n",
    "    'fixable',\n",
    "    'fjord',\n",
    "    'flapjack',\n",
    "    'flopping',\n",
    "    'fluffiness',\n",
    "    'flyby',\n",
    "    'foxglove',\n",
    "    'frazzled',\n",
    "    'frizzled',\n",
    "    'fuchsia',\n",
    "    'funny',\n",
    "    'gabby',\n",
    "    'galaxy',\n",
    "    'galvanize',\n",
    "    'gazebo',\n",
    "    'giaour',\n",
    "    'gizmo',\n",
    "    'glowworm',\n",
    "    'glyph',\n",
    "    'gnarly',\n",
    "    'gnostic',\n",
    "    'gossip',\n",
    "    'grogginess',\n",
    "    'haiku',\n",
    "    'haphazard',\n",
    "    'hyphen',\n",
    "    'iatrogenic',\n",
    "    'icebox',\n",
    "    'injury',\n",
    "    'ivory',\n",
    "    'ivy',\n",
    "    'jackpot',\n",
    "    'jaundice',\n",
    "    'jawbreaker',\n",
    "    'jaywalk',\n",
    "    'jazziest',\n",
    "    'jazzy',\n",
    "    'jelly',\n",
    "    'jigsaw',\n",
    "    'jinx',\n",
    "    'jiujitsu',\n",
    "    'jockey',\n",
    "    'jogging',\n",
    "    'joking',\n",
    "    'jovial',\n",
    "    'joyful',\n",
    "    'juicy',\n",
    "    'jukebox',\n",
    "    'jumbo',\n",
    "    'kayak',\n",
    "    'kazoo',\n",
    "    'keyhole',\n",
    "    'khaki',\n",
    "    'kilobyte',\n",
    "    'kiosk',\n",
    "    'kitsch',\n",
    "    'kiwifruit',\n",
    "    'klutz',\n",
    "    'knapsack',\n",
    "    'larynx',\n",
    "    'lengths',\n",
    "    'lucky',\n",
    "    'luxury',\n",
    "    'lymph',\n",
    "    'marquis',\n",
    "    'matrix',\n",
    "    'megahertz',\n",
    "    'microwave',\n",
    "    'mnemonic',\n",
    "    'mystify',\n",
    "    'naphtha',\n",
    "    'nightclub',\n",
    "    'nowadays',\n",
    "    'numbskull',\n",
    "    'nymph',\n",
    "    'onyx',\n",
    "    'ovary',\n",
    "    'oxidize',\n",
    "    'oxygen',\n",
    "    'pajama',\n",
    "    'peekaboo',\n",
    "    'phlegm',\n",
    "    'pixel',\n",
    "    'pizazz',\n",
    "    'pneumonia',\n",
    "    'polka',\n",
    "    'pshaw',\n",
    "    'psyche',\n",
    "    'puppy',\n",
    "    'puzzling',\n",
    "    'quartz',\n",
    "    'queue',\n",
    "    'quips',\n",
    "    'quixotic',\n",
    "    'quiz',\n",
    "    'quizzes',\n",
    "    'quorum',\n",
    "    'razzmatazz',\n",
    "    'rhubarb',\n",
    "    'rhythm',\n",
    "    'rickshaw',\n",
    "    'schnapps',\n",
    "    'scratch',\n",
    "    'shiv',\n",
    "    'snazzy',\n",
    "    'sphinx',\n",
    "    'spritz',\n",
    "    'squawk',\n",
    "    'staff',\n",
    "    'strength',\n",
    "    'strengths',\n",
    "    'stretch',\n",
    "    'stronghold',\n",
    "    'stymied',\n",
    "    'subway',\n",
    "    'swivel',\n",
    "    'syndrome',\n",
    "    'thriftless',\n",
    "    'thumbscrew',\n",
    "    'topaz',\n",
    "    'transcript',\n",
    "    'transgress',\n",
    "    'transplant',\n",
    "    'triphthong',\n",
    "    'twelfth',\n",
    "    'twelfths',\n",
    "    'unknown',\n",
    "    'unworthy',\n",
    "    'unzip',\n",
    "    'uptown',\n",
    "    'vaporize',\n",
    "    'vixen',\n",
    "    'vodka',\n",
    "    'voodoo',\n",
    "    'vortex',\n",
    "    'voyeurism',\n",
    "    'walkway',\n",
    "    'waltz',\n",
    "    'wave',\n",
    "    'wavy',\n",
    "    'waxy',\n",
    "    'wellspring',\n",
    "    'wheezy',\n",
    "    'whiskey',\n",
    "    'whizzing',\n",
    "    'whomever',\n",
    "    'wimpy',\n",
    "    'witchcraft',\n",
    "    'wizard',\n",
    "    'woozy',\n",
    "    'wristwatch',\n",
    "    'wyvern',\n",
    "    'xylophone',\n",
    "    'yachtsman',\n",
    "    'yippee',\n",
    "    'yoked',\n",
    "    'youthful',\n",
    "    'yummy',\n",
    "    'zephyr',\n",
    "    'zigzag',\n",
    "    'zigzagging',\n",
    "    'zilch',\n",
    "    'zipper',\n",
    "    'zodiac',\n",
    "    'zombie',\n",
    "]\n"
   ]
  },
  {
   "cell_type": "code",
   "execution_count": 12,
   "id": "3352bf20-5ba6-442e-b6fc-ec3320facc06",
   "metadata": {},
   "outputs": [
    {
     "name": "stdout",
     "output_type": "stream",
     "text": [
      " \n",
      " _                                             \n",
      "| |                                            \n",
      "| |__   __ _ _ __   __ _ _ __ ___   __ _ _ __  \n",
      "| '_ \\ / _` | '_ \\ / _` | '_ ` _ \\ / _` | '_ \\ \n",
      "| | | | (_| | | | | (_| | | | | | | (_| | | | |\n",
      "|_| |_|\\__,_|_| |_|\\__, |_| |_| |_|\\__,_|_| |_|\n",
      "                    __/ |                      \n",
      "                   |___/    \n",
      "boxcar\n",
      "Word to guess: ______\n",
      "****************************6/6 LIVES LEFT****************************\n"
     ]
    },
    {
     "name": "stdin",
     "output_type": "stream",
     "text": [
      "Guess a letter:  b\n"
     ]
    },
    {
     "name": "stdout",
     "output_type": "stream",
     "text": [
      "Word to guess: b_____\n",
      "\n",
      "  +---+\n",
      "  |   |\n",
      "      |\n",
      "      |\n",
      "      |\n",
      "      |\n",
      "=========\n",
      "\n",
      "****************************6/6 LIVES LEFT****************************\n"
     ]
    },
    {
     "name": "stdin",
     "output_type": "stream",
     "text": [
      "Guess a letter:  z\n"
     ]
    },
    {
     "name": "stdout",
     "output_type": "stream",
     "text": [
      "Word to guess: b_____\n",
      "You guessed z, that's not in the word. You lose a life.\n",
      "\n",
      "  +---+\n",
      "  |   |\n",
      "  O   |\n",
      "      |\n",
      "      |\n",
      "      |\n",
      "=========\n",
      "\n",
      "****************************5/6 LIVES LEFT****************************\n"
     ]
    },
    {
     "name": "stdin",
     "output_type": "stream",
     "text": [
      "Guess a letter:  z\n"
     ]
    },
    {
     "name": "stdout",
     "output_type": "stream",
     "text": [
      "Word to guess: b_____\n",
      "You guessed z, that's not in the word. You lose a life.\n",
      "\n",
      "  +---+\n",
      "  |   |\n",
      "  O   |\n",
      "  |   |\n",
      "      |\n",
      "      |\n",
      "=========\n",
      "\n",
      "****************************4/6 LIVES LEFT****************************\n"
     ]
    },
    {
     "name": "stdin",
     "output_type": "stream",
     "text": [
      "Guess a letter:  z\n"
     ]
    },
    {
     "name": "stdout",
     "output_type": "stream",
     "text": [
      "Word to guess: b_____\n",
      "You guessed z, that's not in the word. You lose a life.\n",
      "\n",
      "  +---+\n",
      "  |   |\n",
      "  O   |\n",
      " /|   |\n",
      "      |\n",
      "      |\n",
      "=========\n",
      "****************************3/6 LIVES LEFT****************************\n"
     ]
    },
    {
     "name": "stdin",
     "output_type": "stream",
     "text": [
      "Guess a letter:  z\n"
     ]
    },
    {
     "name": "stdout",
     "output_type": "stream",
     "text": [
      "Word to guess: b_____\n",
      "You guessed z, that's not in the word. You lose a life.\n",
      "\n",
      "  +---+\n",
      "  |   |\n",
      "  O   |\n",
      " /|\\  |\n",
      "      |\n",
      "      |\n",
      "=========\n",
      "\n",
      "****************************2/6 LIVES LEFT****************************\n"
     ]
    },
    {
     "name": "stdin",
     "output_type": "stream",
     "text": [
      "Guess a letter:  z\n"
     ]
    },
    {
     "name": "stdout",
     "output_type": "stream",
     "text": [
      "Word to guess: b_____\n",
      "You guessed z, that's not in the word. You lose a life.\n",
      "\n",
      "  +---+\n",
      "  |   |\n",
      "  O   |\n",
      " /|\\  |\n",
      " /    |\n",
      "      |\n",
      "=========\n",
      "\n",
      "****************************1/6 LIVES LEFT****************************\n"
     ]
    },
    {
     "name": "stdin",
     "output_type": "stream",
     "text": [
      "Guess a letter:  z\n"
     ]
    },
    {
     "name": "stdout",
     "output_type": "stream",
     "text": [
      "Word to guess: b_____\n",
      "You guessed z, that's not in the word. You lose a life.\n",
      "***********************IT WAS boxcar! YOU LOSE**********************\n",
      "\n",
      "  +---+\n",
      "  |   |\n",
      "  O   |\n",
      " /|\\  |\n",
      " / \\  |\n",
      "      |\n",
      "=========\n",
      "\n"
     ]
    }
   ],
   "source": [
    "lives = 6\n",
    "\n",
    "print(logo)\n",
    "\n",
    "chosen_word = random.choice(word_list)\n",
    "print(chosen_word)\n",
    "\n",
    "placeholder = \"\"\n",
    "word_length = len(chosen_word)\n",
    "for position in range(word_length):\n",
    "    placeholder += \"_\"\n",
    "print(\"Word to guess: \" + placeholder)\n",
    "\n",
    "game_over = False\n",
    "correct_letters = []\n",
    "\n",
    "while not game_over:\n",
    "\n",
    "    print(f\"****************************{lives}/6 LIVES LEFT****************************\")\n",
    "    guess = input(\"Guess a letter: \").lower()\n",
    "\n",
    "    if guess in correct_letters:\n",
    "        print(f\"You've already guessed {guess}\")\n",
    "\n",
    "    display = \"\"\n",
    "\n",
    "    for letter in chosen_word:\n",
    "        if letter == guess:\n",
    "            display += letter\n",
    "            correct_letters.append(guess)\n",
    "        elif letter in correct_letters:\n",
    "            display += letter\n",
    "        else:\n",
    "            display += \"_\"\n",
    "\n",
    "    print(\"Word to guess: \" + display)\n",
    "\n",
    "    if guess not in chosen_word:\n",
    "        lives -= 1\n",
    "        print(f\"You guessed {guess}, that's not in the word. You lose a life.\")\n",
    "\n",
    "        if lives == 0:\n",
    "            game_over = True\n",
    "\n",
    "            print(f\"***********************IT WAS {chosen_word}! YOU LOSE**********************\")\n",
    "\n",
    "    if \"_\" not in display:\n",
    "        game_over = True\n",
    "        print(\"****************************YOU WIN****************************\")\n",
    "\n",
    "    print(stages[lives])\n"
   ]
  },
  {
   "cell_type": "code",
   "execution_count": 5,
   "id": "1c954f9e-5433-4fc7-8cc3-19f6a3e04097",
   "metadata": {},
   "outputs": [
    {
     "name": "stdout",
     "output_type": "stream",
     "text": [
      "camel\n",
      "_____\n"
     ]
    },
    {
     "name": "stdin",
     "output_type": "stream",
     "text": [
      "Guess a letter:  c\n"
     ]
    },
    {
     "name": "stdout",
     "output_type": "stream",
     "text": [
      "c____\n"
     ]
    },
    {
     "name": "stdin",
     "output_type": "stream",
     "text": [
      "Guess a letter:  a\n"
     ]
    },
    {
     "name": "stdout",
     "output_type": "stream",
     "text": [
      "ca___\n"
     ]
    },
    {
     "name": "stdin",
     "output_type": "stream",
     "text": [
      "Guess a letter:  m\n"
     ]
    },
    {
     "name": "stdout",
     "output_type": "stream",
     "text": [
      "cam__\n"
     ]
    },
    {
     "name": "stdin",
     "output_type": "stream",
     "text": [
      "Guess a letter:  e\n"
     ]
    },
    {
     "name": "stdout",
     "output_type": "stream",
     "text": [
      "came_\n"
     ]
    },
    {
     "name": "stdin",
     "output_type": "stream",
     "text": [
      "Guess a letter:  l\n"
     ]
    },
    {
     "name": "stdout",
     "output_type": "stream",
     "text": [
      "camel\n",
      "You win.\n"
     ]
    }
   ],
   "source": [
    "chosen_word = random.choice(word_list)\n",
    "print(chosen_word)\n",
    "\n",
    "placeholder = \"\"\n",
    "word_length = len(chosen_word)\n",
    "for position in range(word_length):\n",
    "    placeholder += \"_\"\n",
    "print(placeholder)\n",
    "\n",
    "game_over = False\n",
    "correct_letters = []\n",
    "\n",
    "while not game_over:\n",
    "    guess = input(\"Guess a letter: \").lower()\n",
    "\n",
    "    display = \"\"\n",
    "\n",
    "    for letter in chosen_word:\n",
    "        if letter == guess:\n",
    "            display += letter\n",
    "            correct_letters.append(guess)\n",
    "        elif letter in correct_letters:\n",
    "            display += letter\n",
    "        else:\n",
    "            display += \"_\"\n",
    "\n",
    "    print(display)\n",
    "\n",
    "    if \"_\" not in display:\n",
    "        game_over = True\n",
    "        print(\"You win.\")"
   ]
  },
  {
   "cell_type": "code",
   "execution_count": 3,
   "id": "f5ceff9d-f08f-44cb-9c53-4a1c80997b46",
   "metadata": {},
   "outputs": [
    {
     "name": "stdout",
     "output_type": "stream",
     "text": [
      "camel\n",
      "_____\n"
     ]
    },
    {
     "name": "stdin",
     "output_type": "stream",
     "text": [
      "Guess a letter:  c\n"
     ]
    },
    {
     "name": "stdout",
     "output_type": "stream",
     "text": [
      "c____\n",
      "\n",
      "  +---+\n",
      "  |   |\n",
      "      |\n",
      "      |\n",
      "      |\n",
      "      |\n",
      "=========\n",
      "\n"
     ]
    },
    {
     "name": "stdin",
     "output_type": "stream",
     "text": [
      "Guess a letter:  a\n"
     ]
    },
    {
     "name": "stdout",
     "output_type": "stream",
     "text": [
      "ca___\n",
      "\n",
      "  +---+\n",
      "  |   |\n",
      "      |\n",
      "      |\n",
      "      |\n",
      "      |\n",
      "=========\n",
      "\n"
     ]
    },
    {
     "name": "stdin",
     "output_type": "stream",
     "text": [
      "Guess a letter:  m\n"
     ]
    },
    {
     "name": "stdout",
     "output_type": "stream",
     "text": [
      "cam__\n",
      "\n",
      "  +---+\n",
      "  |   |\n",
      "      |\n",
      "      |\n",
      "      |\n",
      "      |\n",
      "=========\n",
      "\n"
     ]
    },
    {
     "name": "stdin",
     "output_type": "stream",
     "text": [
      "Guess a letter:  e\n"
     ]
    },
    {
     "name": "stdout",
     "output_type": "stream",
     "text": [
      "came_\n",
      "\n",
      "  +---+\n",
      "  |   |\n",
      "      |\n",
      "      |\n",
      "      |\n",
      "      |\n",
      "=========\n",
      "\n"
     ]
    },
    {
     "name": "stdin",
     "output_type": "stream",
     "text": [
      "Guess a letter:  l\n"
     ]
    },
    {
     "name": "stdout",
     "output_type": "stream",
     "text": [
      "camel\n",
      "You win.\n",
      "\n",
      "  +---+\n",
      "  |   |\n",
      "      |\n",
      "      |\n",
      "      |\n",
      "      |\n",
      "=========\n",
      "\n"
     ]
    }
   ],
   "source": [
    "stages = [r'''\n",
    "  +---+\n",
    "  |   |\n",
    "  O   |\n",
    " /|\\  |\n",
    " / \\  |\n",
    "      |\n",
    "=========\n",
    "''', r'''\n",
    "  +---+\n",
    "  |   |\n",
    "  O   |\n",
    " /|\\  |\n",
    " /    |\n",
    "      |\n",
    "=========\n",
    "''', r'''\n",
    "  +---+\n",
    "  |   |\n",
    "  O   |\n",
    " /|\\  |\n",
    "      |\n",
    "      |\n",
    "=========\n",
    "''', '''\n",
    "  +---+\n",
    "  |   |\n",
    "  O   |\n",
    " /|   |\n",
    "      |\n",
    "      |\n",
    "=========''', '''\n",
    "  +---+\n",
    "  |   |\n",
    "  O   |\n",
    "  |   |\n",
    "      |\n",
    "      |\n",
    "=========\n",
    "''', '''\n",
    "  +---+\n",
    "  |   |\n",
    "  O   |\n",
    "      |\n",
    "      |\n",
    "      |\n",
    "=========\n",
    "''', '''\n",
    "  +---+\n",
    "  |   |\n",
    "      |\n",
    "      |\n",
    "      |\n",
    "      |\n",
    "=========\n",
    "''']\n",
    "word_list = [\"aardvark\", \"baboon\", \"camel\"]\n",
    "\n",
    "lives = 6\n",
    "\n",
    "chosen_word = random.choice(word_list)\n",
    "print(chosen_word)\n",
    "\n",
    "placeholder = \"\"\n",
    "word_length = len(chosen_word)\n",
    "for position in range(word_length):\n",
    "    placeholder += \"_\"\n",
    "print(placeholder)\n",
    "\n",
    "game_over = False\n",
    "correct_letters = []\n",
    "\n",
    "while not game_over:\n",
    "    guess = input(\"Guess a letter: \").lower()\n",
    "\n",
    "    display = \"\"\n",
    "\n",
    "    for letter in chosen_word:\n",
    "        if letter == guess:\n",
    "            display += letter\n",
    "            correct_letters.append(guess)\n",
    "        elif letter in correct_letters:\n",
    "            display += letter\n",
    "        else:\n",
    "            display += \"_\"\n",
    "\n",
    "    print(display)\n",
    "\n",
    "    if guess not in chosen_word:\n",
    "        lives -= 1\n",
    "        if lives == 0:\n",
    "            game_over = True\n",
    "            print(\"You lose.\")\n",
    "\n",
    "    if \"_\" not in display:\n",
    "        game_over = True\n",
    "        print(\"You win.\")\n",
    "\n",
    "    print(stages[lives])"
   ]
  },
  {
   "cell_type": "code",
   "execution_count": 4,
   "id": "d54d64e2-46c1-4c47-b074-6461766fd377",
   "metadata": {},
   "outputs": [
    {
     "name": "stdout",
     "output_type": "stream",
     "text": [
      " \n",
      " _                                             \n",
      "| |                                            \n",
      "| |__   __ _ _ __   __ _ _ __ ___   __ _ _ __  \n",
      "| '_ \\ / _` | '_ \\ / _` | '_ ` _ \\ / _` | '_ \\ \n",
      "| | | | (_| | | | | (_| | | | | | | (_| | | | |\n",
      "|_| |_|\\__,_|_| |_|\\__, |_| |_| |_|\\__,_|_| |_| \n",
      "                    __/ |                      \n",
      "                   |___/                       \n",
      "\n",
      "\n",
      "************* 6/6 LIVES LEFT *************\n"
     ]
    },
    {
     "name": "stdin",
     "output_type": "stream",
     "text": [
      "Guess a letter:  c\n"
     ]
    },
    {
     "name": "stdout",
     "output_type": "stream",
     "text": [
      "Word to guess: _____\n",
      "Wrong! 'c' is not in the word. You lose a life.\n",
      "\n",
      "  +---+\n",
      "  |   |\n",
      "  O   |\n",
      "      |\n",
      "      |\n",
      "      |\n",
      "=========\n",
      "\n",
      "\n",
      "************* 5/6 LIVES LEFT *************\n"
     ]
    },
    {
     "name": "stdin",
     "output_type": "stream",
     "text": [
      "Guess a letter:  a\n"
     ]
    },
    {
     "name": "stdout",
     "output_type": "stream",
     "text": [
      "Word to guess: _____\n",
      "Wrong! 'a' is not in the word. You lose a life.\n",
      "\n",
      "  +---+\n",
      "  |   |\n",
      "  O   |\n",
      "  |   |\n",
      "      |\n",
      "      |\n",
      "=========\n",
      "\n",
      "\n",
      "************* 4/6 LIVES LEFT *************\n"
     ]
    },
    {
     "name": "stdin",
     "output_type": "stream",
     "text": [
      "Guess a letter:  m\n"
     ]
    },
    {
     "name": "stdout",
     "output_type": "stream",
     "text": [
      "Word to guess: __mm_\n",
      "\n",
      "  +---+\n",
      "  |   |\n",
      "  O   |\n",
      "  |   |\n",
      "      |\n",
      "      |\n",
      "=========\n",
      "\n",
      "\n",
      "************* 4/6 LIVES LEFT *************\n"
     ]
    },
    {
     "name": "stdin",
     "output_type": "stream",
     "text": [
      "Guess a letter:  b\n"
     ]
    },
    {
     "name": "stdout",
     "output_type": "stream",
     "text": [
      "Word to guess: __mm_\n",
      "Wrong! 'b' is not in the word. You lose a life.\n",
      "\n",
      "  +---+\n",
      "  |   |\n",
      "  O   |\n",
      " /|   |\n",
      "      |\n",
      "      |\n",
      "=========\n",
      "\n",
      "************* 3/6 LIVES LEFT *************\n"
     ]
    },
    {
     "name": "stdin",
     "output_type": "stream",
     "text": [
      "Guess a letter:  w\n"
     ]
    },
    {
     "name": "stdout",
     "output_type": "stream",
     "text": [
      "Word to guess: __mm_\n",
      "Wrong! 'w' is not in the word. You lose a life.\n",
      "\n",
      "  +---+\n",
      "  |   |\n",
      "  O   |\n",
      " /|\\  |\n",
      "      |\n",
      "      |\n",
      "=========\n",
      "\n",
      "\n",
      "************* 2/6 LIVES LEFT *************\n"
     ]
    },
    {
     "name": "stdin",
     "output_type": "stream",
     "text": [
      "Guess a letter:  t\n"
     ]
    },
    {
     "name": "stdout",
     "output_type": "stream",
     "text": [
      "Word to guess: __mm_\n",
      "Wrong! 't' is not in the word. You lose a life.\n",
      "\n",
      "  +---+\n",
      "  |   |\n",
      "  O   |\n",
      " /|\\  |\n",
      " /    |\n",
      "      |\n",
      "=========\n",
      "\n",
      "\n",
      "************* 1/6 LIVES LEFT *************\n"
     ]
    },
    {
     "name": "stdin",
     "output_type": "stream",
     "text": [
      "Guess a letter:  y\n"
     ]
    },
    {
     "name": "stdout",
     "output_type": "stream",
     "text": [
      "Word to guess: y_mmy\n",
      "\n",
      "  +---+\n",
      "  |   |\n",
      "  O   |\n",
      " /|\\  |\n",
      " /    |\n",
      "      |\n",
      "=========\n",
      "\n",
      "\n",
      "************* 1/6 LIVES LEFT *************\n"
     ]
    },
    {
     "name": "stdin",
     "output_type": "stream",
     "text": [
      "Guess a letter:  y\n"
     ]
    },
    {
     "name": "stdout",
     "output_type": "stream",
     "text": [
      "You've already guessed 'y'\n",
      "\n",
      "************* 1/6 LIVES LEFT *************\n"
     ]
    },
    {
     "name": "stdin",
     "output_type": "stream",
     "text": [
      "Guess a letter:  s\n"
     ]
    },
    {
     "name": "stdout",
     "output_type": "stream",
     "text": [
      "Word to guess: y_mmy\n",
      "Wrong! 's' is not in the word. You lose a life.\n",
      "\n",
      "😢 YOU LOSE! The word was: 'yummy'\n",
      "\n",
      "  +---+\n",
      "  |   |\n",
      "  O   |\n",
      " /|\\  |\n",
      " / \\  |\n",
      "      |\n",
      "=========\n",
      "\n"
     ]
    }
   ],
   "source": [
    "# HANGMAN GAME 👻 by Veda Meghana\n",
    "import random\n",
    "\n",
    "# Hangman logo\n",
    "logo = r''' \n",
    " _                                             \n",
    "| |                                            \n",
    "| |__   __ _ _ __   __ _ _ __ ___   __ _ _ __  \n",
    "| '_ \\ / _` | '_ \\ / _` | '_ ` _ \\ / _` | '_ \\ \n",
    "| | | | (_| | | | | (_| | | | | | | (_| | | | |\n",
    "|_| |_|\\__,_|_| |_|\\__, |_| |_| |_|\\__,_|_| |_| \n",
    "                    __/ |                      \n",
    "                   |___/                       \n",
    "'''\n",
    "\n",
    "# Hangman drawing stages\n",
    "stages = [r'''\n",
    "  +---+\n",
    "  |   |\n",
    "  O   |\n",
    " /|\\  |\n",
    " / \\  |\n",
    "      |\n",
    "=========\n",
    "''', r'''\n",
    "  +---+\n",
    "  |   |\n",
    "  O   |\n",
    " /|\\  |\n",
    " /    |\n",
    "      |\n",
    "=========\n",
    "''', r'''\n",
    "  +---+\n",
    "  |   |\n",
    "  O   |\n",
    " /|\\  |\n",
    "      |\n",
    "      |\n",
    "=========\n",
    "''', '''\n",
    "  +---+\n",
    "  |   |\n",
    "  O   |\n",
    " /|   |\n",
    "      |\n",
    "      |\n",
    "=========''', '''\n",
    "  +---+\n",
    "  |   |\n",
    "  O   |\n",
    "  |   |\n",
    "      |\n",
    "      |\n",
    "=========\n",
    "''', '''\n",
    "  +---+\n",
    "  |   |\n",
    "  O   |\n",
    "      |\n",
    "      |\n",
    "      |\n",
    "=========\n",
    "''', '''\n",
    "  +---+\n",
    "  |   |\n",
    "      |\n",
    "      |\n",
    "      |\n",
    "      |\n",
    "=========\n",
    "''']\n",
    "\n",
    "# Word bank\n",
    "word_list = [\n",
    "    'abruptly', 'absurd', 'abyss', 'affix', 'askew', 'avenue', 'awkward', 'axiom', 'azure',\n",
    "    'bagpipes', 'bandwagon', 'banjo', 'bayou', 'beekeeper', 'bikini', 'blitz', 'blizzard',\n",
    "    'boggle', 'bookworm', 'boxcar', 'boxful', 'buckaroo', 'buffalo', 'buffoon', 'buxom',\n",
    "    'buzzard', 'buzzing', 'buzzwords', 'caliph', 'cobweb', 'cockiness', 'croquet', 'crypt',\n",
    "    'curacao', 'cycle', 'daiquiri', 'dirndl', 'disavow', 'dizzying', 'duplex', 'dwarves',\n",
    "    'embezzle', 'equip', 'espionage', 'euouae', 'exodus', 'faking', 'fishhook', 'fixable',\n",
    "    'fjord', 'flapjack', 'flopping', 'fluffiness', 'flyby', 'foxglove', 'frazzled', 'frizzled',\n",
    "    'fuchsia', 'funny', 'gabby', 'galaxy', 'galvanize', 'gazebo', 'giaour', 'gizmo', 'glowworm',\n",
    "    'glyph', 'gnarly', 'gnostic', 'gossip', 'grogginess', 'haiku', 'haphazard', 'hyphen',\n",
    "    'iatrogenic', 'icebox', 'injury', 'ivory', 'ivy', 'jackpot', 'jaundice', 'jawbreaker',\n",
    "    'jaywalk', 'jazziest', 'jazzy', 'jelly', 'jigsaw', 'jinx', 'jiujitsu', 'jockey', 'jogging',\n",
    "    'joking', 'jovial', 'joyful', 'juicy', 'jukebox', 'jumbo', 'kayak', 'kazoo', 'keyhole',\n",
    "    'khaki', 'kilobyte', 'kiosk', 'kitsch', 'kiwifruit', 'klutz', 'knapsack', 'larynx', 'lengths',\n",
    "    'lucky', 'luxury', 'lymph', 'marquis', 'matrix', 'megahertz', 'microwave', 'mnemonic',\n",
    "    'mystify', 'naphtha', 'nightclub', 'nowadays', 'numbskull', 'nymph', 'onyx', 'ovary',\n",
    "    'oxidize', 'oxygen', 'pajama', 'peekaboo', 'phlegm', 'pixel', 'pizazz', 'pneumonia', 'polka',\n",
    "    'pshaw', 'psyche', 'puppy', 'puzzling', 'quartz', 'queue', 'quips', 'quixotic', 'quiz',\n",
    "    'quizzes', 'quorum', 'razzmatazz', 'rhubarb', 'rhythm', 'rickshaw', 'schnapps', 'scratch',\n",
    "    'shiv', 'snazzy', 'sphinx', 'spritz', 'squawk', 'staff', 'strength', 'strengths', 'stretch',\n",
    "    'stronghold', 'stymied', 'subway', 'swivel', 'syndrome', 'thriftless', 'thumbscrew', 'topaz',\n",
    "    'transcript', 'transgress', 'transplant', 'triphthong', 'twelfth', 'twelfths', 'unknown',\n",
    "    'unworthy', 'unzip', 'uptown', 'vaporize', 'vixen', 'vodka', 'voodoo', 'vortex', 'voyeurism',\n",
    "    'walkway', 'waltz', 'wave', 'wavy', 'waxy', 'wellspring', 'wheezy', 'whiskey', 'whizzing',\n",
    "    'whomever', 'wimpy', 'witchcraft', 'wizard', 'woozy', 'wristwatch', 'wyvern', 'xylophone',\n",
    "    'yachtsman', 'yippee', 'yoked', 'youthful', 'yummy', 'zephyr', 'zigzag', 'zigzagging', 'zilch',\n",
    "    'zipper', 'zodiac', 'zombie'\n",
    "]\n",
    "\n",
    "# Start game\n",
    "print(logo)\n",
    "chosen_word = random.choice(word_list)\n",
    "lives = 6\n",
    "correct_letters = []\n",
    "\n",
    "# Uncomment the line below to debug:\n",
    "# print(f\"Pssst... the word is: {chosen_word}\")\n",
    "\n",
    "game_over = False\n",
    "\n",
    "while not game_over:\n",
    "    print(f\"\\n************* {lives}/6 LIVES LEFT *************\")\n",
    "    guess = input(\"Guess a letter: \").lower()\n",
    "\n",
    "    if guess in correct_letters:\n",
    "        print(f\"You've already guessed '{guess}'\")\n",
    "        continue\n",
    "\n",
    "    correct_letters.append(guess)\n",
    "    display = \"\"\n",
    "\n",
    "    for letter in chosen_word:\n",
    "        if letter in correct_letters:\n",
    "            display += letter\n",
    "        else:\n",
    "            display += \"_\"\n",
    "\n",
    "    print(\"Word to guess:\", display)\n",
    "\n",
    "    if guess not in chosen_word:\n",
    "        lives -= 1\n",
    "        print(f\"Wrong! '{guess}' is not in the word. You lose a life.\")\n",
    "        if lives == 0:\n",
    "            game_over = True\n",
    "            print(f\"\\n😢 YOU LOSE! The word was: '{chosen_word}'\")\n",
    "\n",
    "    if \"_\" not in display:\n",
    "        game_over = True\n",
    "        print(\"\\n🎉 YOU WIN! Well done!\")\n",
    "\n",
    "    print(stages[lives])\n"
   ]
  },
  {
   "cell_type": "code",
   "execution_count": null,
   "id": "abfaa748-918f-41c4-acef-8d26fe429b73",
   "metadata": {},
   "outputs": [],
   "source": []
  }
 ],
 "metadata": {
  "kernelspec": {
   "display_name": "Python 3 (ipykernel)",
   "language": "python",
   "name": "python3"
  },
  "language_info": {
   "codemirror_mode": {
    "name": "ipython",
    "version": 3
   },
   "file_extension": ".py",
   "mimetype": "text/x-python",
   "name": "python",
   "nbconvert_exporter": "python",
   "pygments_lexer": "ipython3",
   "version": "3.12.7"
  }
 },
 "nbformat": 4,
 "nbformat_minor": 5
}
